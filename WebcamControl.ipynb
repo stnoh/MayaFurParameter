{
 "cells": [
  {
   "cell_type": "markdown",
   "metadata": {},
   "source": [
    "# Smartphone capturing by IP Webcam\n",
    "\n",
    "This code access to smartphone video stream.  \n",
    "You need to install [IP Webcam] in your smartphone, and \"Start server\" using it.\n",
    "\n",
    "[IP Webcam]:https://play.google.com/store/apps/details?id=com.pas.webcam"
   ]
  },
  {
   "cell_type": "code",
   "execution_count": 1,
   "metadata": {},
   "outputs": [],
   "source": [
    "import shutil, os\n",
    "from datetime import datetime\n",
    "\n",
    "import numpy as np\n",
    "import cv2\n",
    "import urllib.request"
   ]
  },
  {
   "cell_type": "code",
   "execution_count": 2,
   "metadata": {},
   "outputs": [],
   "source": [
    "folder_root = \"C:/FurImages/Capture\"\n",
    "\n",
    "## load url from text file ...\n",
    "url = \"http://192.168.0.1:8080\"\n",
    "with open('data/ipaddress.txt') as f: \n",
    "    url = f.read()\n",
    "\n",
    "## \n",
    "url_video    = url+\"/video\"\n",
    "url_snapshot = url+\"/photoaf.jpg\""
   ]
  },
  {
   "cell_type": "markdown",
   "metadata": {},
   "source": [
    "## Main loop\n",
    "\n",
    "Now it shows video in real-time to check capturing.  \n",
    "You can control this tool with the following keyboard.\n",
    "\n",
    "- Escape: quit loop\n",
    "- Space bar: capture the video view (**low-resolution**)\n",
    "- 'c' key: capture the image (**high-resolution**)"
   ]
  },
  {
   "cell_type": "code",
   "execution_count": 3,
   "metadata": {},
   "outputs": [],
   "source": [
    "############################################################\n",
    "## create folder for captured images\n",
    "############################################################\n",
    "datetime_str = datetime.now().strftime(\"%Y%m%d_%H%M%S\")\n",
    "folder_path  = \"{0}/capture_{1}\".format(folder_root, datetime_str)\n",
    "os.makedirs(folder_path)\n",
    "\n",
    "############################################################\n",
    "## main loop\n",
    "############################################################\n",
    "capture = cv2.VideoCapture(url_video) ## start video preview\n",
    "count = 0 # initialize counter for image capturing\n",
    "\n",
    "while True:\n",
    "    \n",
    "    ## read & show image from stream\n",
    "    ret, frame = capture.read()\n",
    "    cv2.imshow(\"VideoFrame\", frame)\n",
    "    key = cv2.waitKey(1)\n",
    "    \n",
    "    ## ESCAPE: abort\n",
    "    if key==27: break\n",
    "    \n",
    "    ########################################\n",
    "    ## SPACEBAR: screenshot (low-res)\n",
    "    ########################################\n",
    "    if key==ord(' '):\n",
    "        img=frame\n",
    "        cv2.imshow('capture_low-res',img)\n",
    "    \n",
    "        ## write full-sized image in PNG without compression\n",
    "        img_path = \"{0}/capture_{1:04d}.png\".format(folder_path, count)\n",
    "        cv2.imwrite(img_path, img, [cv2.IMWRITE_PNG_COMPRESSION, 0])\n",
    "        count+=1\n",
    "    \n",
    "    ########################################\n",
    "    ## 'c' key: screenshot (hi-res)\n",
    "    ########################################\n",
    "    if key==ord('c'):\n",
    "        with urllib.request.urlopen(url_snapshot) as url:\n",
    "            \n",
    "            ## get snapshot from IP Webcam\n",
    "            imgNp=np.array(bytearray(url.read()),dtype=np.uint8)\n",
    "            img=cv2.imdecode(imgNp,-1)\n",
    "            \n",
    "            ## show temporary, resized view\n",
    "            H, W = img.shape[:2]\n",
    "            W_small = 640\n",
    "            H_small = int(H / (W/W_small))\n",
    "            img_small = cv2.resize(img, (W_small,H_small) )\n",
    "            cv2.imshow('capture_hi-res',img_small)\n",
    "            \n",
    "            ## write full-sized image in PNG without compression\n",
    "            img_path = \"{0}/capture_{1:04d}_HQ.png\".format(folder_path, count)\n",
    "            cv2.imwrite(img_path, img, [cv2.IMWRITE_PNG_COMPRESSION, 0])\n",
    "            count+=1\n",
    "\n",
    "capture.release()\n",
    "cv2.destroyAllWindows()"
   ]
  }
 ],
 "metadata": {
  "kernelspec": {
   "display_name": "Python 3",
   "language": "python",
   "name": "python3"
  },
  "language_info": {
   "codemirror_mode": {
    "name": "ipython",
    "version": 3
   },
   "file_extension": ".py",
   "mimetype": "text/x-python",
   "name": "python",
   "nbconvert_exporter": "python",
   "pygments_lexer": "ipython3",
   "version": "3.6.10"
  }
 },
 "nbformat": 4,
 "nbformat_minor": 2
}
